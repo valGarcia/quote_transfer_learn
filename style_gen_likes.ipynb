{
 "cells": [
  {
   "cell_type": "markdown",
   "metadata": {},
   "source": [
    "# Fine-tune pre-trained model with custom data"
   ]
  },
  {
   "cell_type": "code",
   "execution_count": 1,
   "metadata": {
    "scrolled": false
   },
   "outputs": [
    {
     "data": {
      "text/plain": [
       "<spacy.lang.en.English at 0x292d3fdc7b8>"
      ]
     },
     "execution_count": 1,
     "metadata": {},
     "output_type": "execute_result"
    }
   ],
   "source": [
    "from fastai_old.text import *\n",
    "import html\n",
    "import spacy \n",
    "\n",
    "spacy.load('en_core_web_sm')"
   ]
  },
  {
   "cell_type": "markdown",
   "metadata": {},
   "source": [
    "We're going to grab our custom style text data, e.g. the text of Alice in Wonderland, from the directory `data_style/`. This data tends to be small, so it's included in the repository. We will also create a directory in which we'll store our trained language models, `data_inf/custom_lm/`. This isn't included in the repository because it can be very large.\n",
    "\n",
    "When we create the language model, we give it a path (in this case `data_inf/custom_lm/`). Then when we save the language model, it saves the data in `path/models/`. \n",
    "\n",
    "Note that we'll need to load two files to load the pre-trained data model. These should be located in `data_inf/pretrained/`. The files are `fwd_wt103.h5` and `itos_wt103.pkl`.\n",
    "\n",
    "Finally, we'll set up a master name for this fine-tuning. The vocab and model will be saved with this name. The default here is `alice`."
   ]
  },
  {
   "cell_type": "code",
   "execution_count": 2,
   "metadata": {},
   "outputs": [],
   "source": [
    "import pandas as pd\n",
    "df = pd.read_csv(\"data_style/popular_quotes_clean.csv\")\n",
    "text = df[\"text\"].astype(str).tolist()"
   ]
  },
  {
   "cell_type": "code",
   "execution_count": 3,
   "metadata": {},
   "outputs": [
    {
     "data": {
      "text/plain": [
       "2228"
      ]
     },
     "execution_count": 3,
     "metadata": {},
     "output_type": "execute_result"
    }
   ],
   "source": [
    "df[\"likes\"].astype(int).min()"
   ]
  },
  {
   "cell_type": "code",
   "execution_count": 4,
   "metadata": {},
   "outputs": [
    {
     "data": {
      "text/plain": [
       "191"
      ]
     },
     "execution_count": 4,
     "metadata": {},
     "output_type": "execute_result"
    }
   ],
   "source": [
    "likes = df[\"likes\"].astype(int)\n",
    "likes /= 1000\n",
    "likes = [int(like) for like in likes]\n",
    "max(likes)"
   ]
  },
  {
   "cell_type": "code",
   "execution_count": 6,
   "metadata": {},
   "outputs": [
    {
     "data": {
      "text/plain": [
       "['1 be impeccable with your wor',\n",
       " '1 be impeccable with your wor',\n",
       " 'a bit of trash now and then is good for the severest reader it provides the necessary roughage in the literary diet',\n",
       " 'a bit of trash now and then is good for the severest reader it provides the necessary roughage in the literary diet',\n",
       " 'a book is really like a lover it arranges itself in your life in a way that is beautiful',\n",
       " 'a book is really like a lover it arranges itself in your life in a way that is beautiful',\n",
       " 'a book is really like a lover it arranges itself in your life in a way that is beautiful',\n",
       " 'a book lying idle on a shelf is wasted ammunition',\n",
       " 'a book lying idle on a shelf is wasted ammunition',\n",
       " 'a book lying idle on a shelf is wasted ammunition']"
      ]
     },
     "execution_count": 6,
     "metadata": {},
     "output_type": "execute_result"
    }
   ],
   "source": [
    "text_likes = []\n",
    "for line, likes in zip(text, likes):\n",
    "    for i in range(likes):\n",
    "        text_likes.append(line)\n",
    "text_likes[:10]"
   ]
  },
  {
   "cell_type": "code",
   "execution_count": 10,
   "metadata": {},
   "outputs": [],
   "source": [
    "from random import shuffle\n",
    "shuffle(text_likes)"
   ]
  },
  {
   "cell_type": "code",
   "execution_count": 13,
   "metadata": {},
   "outputs": [],
   "source": [
    "f = open(\"data_style/pop_quotes_likes.txt\", \"w\")\n",
    "for line in text_likes:\n",
    "        f.write(\"<bos> \" + line + \" <eos>\\n\")\n",
    "f.close()"
   ]
  },
  {
   "cell_type": "code",
   "execution_count": 8,
   "metadata": {},
   "outputs": [],
   "source": [
    "f = open(\"data_style/pop_quotes.txt\", \"r\")\n",
    "f.read()\n",
    "f.close()"
   ]
  },
  {
   "cell_type": "code",
   "execution_count": 14,
   "metadata": {
    "scrolled": true
   },
   "outputs": [],
   "source": [
    "DATA_PATH=Path('data_style/')\n",
    "DATA_PATH.mkdir(exist_ok=True)\n",
    "\n",
    "LM_PATH = Path('data_inf/custom_lm/')\n",
    "LM_PATH.mkdir(exist_ok=True)\n",
    "\n",
    "PRE_PATH=Path('data_inf/pretrained/')\n",
    "PRE_PATH.mkdir(exist_ok=True)\n",
    "\n",
    "NAME = 'pop_quotes'\n",
    "ID = 'notebook'"
   ]
  },
  {
   "cell_type": "markdown",
   "metadata": {},
   "source": [
    "Now we're going to load data that is a single text file of plain text. We'll need to split the text into chunks for efficient training and to hold out some data as validation. We'll set a minimum chunk size, and otherwise break at paragraphs.\n",
    "\n",
    "\n"
   ]
  },
  {
   "cell_type": "code",
   "execution_count": 15,
   "metadata": {},
   "outputs": [
    {
     "data": {
      "text/plain": [
       "753"
      ]
     },
     "execution_count": 15,
     "metadata": {},
     "output_type": "execute_result"
    }
   ],
   "source": [
    "minwords = 100\n",
    "\n",
    "def get_texts(fname):\n",
    "    texts = []\n",
    "    with fname.open('r') as f:\n",
    "        curr = ['', 0]\n",
    "        for line in f:\n",
    "            l = len(line.split(' '))\n",
    "            if curr[1] + l > minwords:\n",
    "                texts.append(curr[0])\n",
    "                curr = [line, l]\n",
    "            else:\n",
    "                curr[0] += '\\n' + line\n",
    "                curr[1] += l\n",
    "    if curr[0] != '':\n",
    "        texts.append(curr[0])\n",
    "    return np.array(texts)\n",
    "\n",
    "data_file = NAME + '.txt'\n",
    "all_texts = get_texts(DATA_PATH/data_file)\n",
    "len(all_texts)"
   ]
  },
  {
   "cell_type": "code",
   "execution_count": 17,
   "metadata": {},
   "outputs": [
    {
     "data": {
      "text/plain": [
       "'<bos> heres all you have to know about men and women women are crazy men are stupid and the main reason women are crazy is that men are stupid <eos>\\n'"
      ]
     },
     "execution_count": 17,
     "metadata": {},
     "output_type": "execute_result"
    }
   ],
   "source": [
    "random.choice(all_texts)"
   ]
  },
  {
   "cell_type": "markdown",
   "metadata": {},
   "source": [
    "Now we'll split the data into training and validation data. \n"
   ]
  },
  {
   "cell_type": "code",
   "execution_count": 18,
   "metadata": {},
   "outputs": [
    {
     "data": {
      "text/plain": [
       "(527, 226)"
      ]
     },
     "execution_count": 18,
     "metadata": {},
     "output_type": "execute_result"
    }
   ],
   "source": [
    "trn_texts,val_texts = sklearn.model_selection.train_test_split(\n",
    "    all_texts, test_size=0.3)\n",
    "\n",
    "# trn_texts = all_texts\n",
    "# val_texts = all_texts\n",
    "\n",
    "len(trn_texts), len(val_texts)"
   ]
  },
  {
   "cell_type": "markdown",
   "metadata": {},
   "source": [
    "Using the pandas DataFrame speeds up pre-processing, though it does feel a little like overkill."
   ]
  },
  {
   "cell_type": "code",
   "execution_count": 19,
   "metadata": {},
   "outputs": [
    {
     "name": "stdout",
     "output_type": "stream",
     "text": [
      "527 226\n"
     ]
    },
    {
     "data": {
      "text/plain": [
       "'<bos> i was wise enough never to grow up while fooling people into believing i had <eos> \\n\\n <bos> i was within and without simultaneously enchanted and repelled by the inexhaustible variety of life <eos> \\n\\n <bos> i was nt actually in love but i felt a sort of tender curiosity <eos> \\n'"
      ]
     },
     "execution_count": 19,
     "metadata": {},
     "output_type": "execute_result"
    }
   ],
   "source": [
    "col_names = ['text']\n",
    "df_trn = pd.DataFrame({'text':trn_texts}, columns=col_names)\n",
    "df_val = pd.DataFrame({'text':val_texts}, columns=col_names)\n",
    "\n",
    "re1 = re.compile(r'  +')\n",
    "\n",
    "def fixup(x):\n",
    "    x = x.replace('#39;', \"'\").replace('amp;', '&').replace('#146;', \"'\").replace(\n",
    "        'nbsp;', ' ').replace('#36;', '$').replace('\\\\n', \"\\n\").replace('quot;', \"'\").replace(\n",
    "        '<br />', \"\\n\").replace('\\\\\"', '\"').replace('<unk>','u_n').replace(' @.@ ','.').replace(\n",
    "        ' @-@ ','-').replace('\\\\', ' \\\\ ').replace('.',' .').replace('?',' ?').replace('!',' !').replace('’',\" '\")\n",
    "    return re1.sub(' ', html.unescape(x))\n",
    "\n",
    "def get_texts(df):\n",
    "#     texts = f'\\n{BOS} {FLD} 1 ' + df['text'].astype(str)\n",
    "    texts = df['text'].astype(str)\n",
    "    texts = list(texts.apply(fixup).values)\n",
    "    tok = Tokenizer(lang='en_core_web_sm').proc_all_mp(partition_by_cores(texts))\n",
    "    return tok\n",
    "\n",
    "tok_trn = get_texts(df_trn)\n",
    "tok_val = get_texts(df_val)\n",
    "\n",
    "print(len(tok_trn), len(tok_val))\n",
    "\n",
    "' '.join(tok_trn[0])"
   ]
  },
  {
   "cell_type": "code",
   "execution_count": 20,
   "metadata": {},
   "outputs": [
    {
     "data": {
      "text/plain": [
       "2121"
      ]
     },
     "execution_count": 20,
     "metadata": {},
     "output_type": "execute_result"
    }
   ],
   "source": [
    "freq = Counter(p for o in tok_trn for p in o)\n",
    "\n",
    "max_vocab = 60000\n",
    "min_freq = 1\n",
    "\n",
    "itos = [o for o,c in freq.most_common(max_vocab) if c>min_freq]\n",
    "itos.insert(0, '_pad_')\n",
    "itos.insert(0, '_unk_')\n",
    "\n",
    "itos2 = pickle.load((PRE_PATH/'itos_wt103.pkl').open('rb'))\n",
    "stoi2 = collections.defaultdict(lambda:-1, {v:k for k,v in enumerate(itos2)})\n",
    "\n",
    "# itos = list(set(itos).union(itos2))\n",
    "stoi = collections.defaultdict(lambda:0, {v:k for k,v in enumerate(itos)})\n",
    "\n",
    "trn_lm = np.array([[stoi[o] for o in p] for p in tok_trn])\n",
    "val_lm = np.array([[stoi[o] for o in p] for p in tok_val])\n",
    "\n",
    "itos_file = 'itos_' + NAME + ID + '.pkl'\n",
    "with open(LM_PATH/itos_file, 'wb') as f:\n",
    "    pickle.dump(itos, f)\n",
    "\n",
    "vs=len(itos)\n",
    "vs"
   ]
  },
  {
   "cell_type": "code",
   "execution_count": 21,
   "metadata": {},
   "outputs": [
    {
     "data": {
      "text/plain": [
       "WindowsPath('data_inf/pretrained/fwd_wt103.h5')"
      ]
     },
     "execution_count": 21,
     "metadata": {},
     "output_type": "execute_result"
    }
   ],
   "source": [
    "em_sz,nh,nl = 400,1150,3\n",
    "\n",
    "PRE_LM_PATH = PRE_PATH/'fwd_wt103.h5'\n",
    "wgts = torch.load(PRE_LM_PATH, map_location=lambda storage, loc: storage)\n",
    "\n",
    "enc_wgts = to_np(wgts['0.encoder.weight'])\n",
    "row_m = enc_wgts.mean(0)\n",
    "\n",
    "new_w = np.zeros((vs, em_sz), dtype=np.float32)\n",
    "for i,w in enumerate(itos):                     # for word in imbd vocab\n",
    "    r = stoi2[w]                                # get the int in the pretrained vocab\n",
    "    new_w[i] = enc_wgts[r] if r>=0 else row_m   # add weight if in vocab, else add mean weight\n",
    "    \n",
    "wgts['0.encoder.weight'] = T(new_w)\n",
    "wgts['0.encoder_with_dropout.embed.weight'] = T(np.copy(new_w))\n",
    "wgts['1.decoder.weight'] = T(np.copy(new_w))\n",
    "\n",
    "wd=1e-7\n",
    "bptt=70\n",
    "bs=16\n",
    "opt_fn = partial(optim.Adam, betas=(0.8, 0.99))\n",
    "\n",
    "trn_dl = LanguageModelLoader(np.concatenate(trn_lm), bs, bptt)\n",
    "val_dl = LanguageModelLoader(np.concatenate(val_lm), bs, bptt)\n",
    "md = LanguageModelData(LM_PATH, 1, vs, trn_dl, val_dl, bs=bs, bptt=bptt)\n",
    "\n",
    "drops = np.array([0.25, 0.1, 0.2, 0.02, 0.15])*0.7\n",
    "\n",
    "learner= md.get_model(opt_fn, em_sz, nh, nl, \n",
    "    dropouti=drops[0], dropout=drops[1], wdrop=drops[2], dropoute=drops[3], dropouth=drops[4])\n",
    "\n",
    "learner.model.load_state_dict(wgts)\n",
    "PRE_LM_PATH"
   ]
  },
  {
   "cell_type": "markdown",
   "metadata": {},
   "source": [
    "Now we are in language modeling black magic land, following along with the fast.ai IMDB tutorial. They say to tune the last layer for one epoch first."
   ]
  },
  {
   "cell_type": "code",
   "execution_count": 22,
   "metadata": {},
   "outputs": [
    {
     "data": {
      "application/vnd.jupyter.widget-view+json": {
       "model_id": "09240ff774c3468da3164235f1d51dad",
       "version_major": 2,
       "version_minor": 0
      },
      "text/plain": [
       "HBox(children=(IntProgress(value=0, description='Epoch', max=1, style=ProgressStyle(description_width='initial…"
      ]
     },
     "metadata": {},
     "output_type": "display_data"
    },
    {
     "name": "stdout",
     "output_type": "stream",
     "text": [
      "epoch      trn_loss   val_loss   accuracy                                                                              \n",
      "    0      5.592643   5.349327   0.145134  \n",
      "\n"
     ]
    }
   ],
   "source": [
    "learner.metrics = [accuracy]\n",
    "learner.freeze_to(-1)\n",
    "\n",
    "lr = 1e-3\n",
    "lrs = lr\n",
    "\n",
    "learner.fit(lrs/2, 1, wds=wd, use_clr=(32,2), cycle_len=1)\n",
    "\n",
    "lm_name = NAME + ID + '_lm_last_ft'\n",
    "learner.save(lm_name)"
   ]
  },
  {
   "cell_type": "markdown",
   "metadata": {},
   "source": [
    "And now we're going to fine-tune the whole model. First we're going to find a good learning rate, then unfreeze the whole thing (I think...) and fine-tune.\n",
    "\n"
   ]
  },
  {
   "cell_type": "code",
   "execution_count": 23,
   "metadata": {},
   "outputs": [
    {
     "data": {
      "application/vnd.jupyter.widget-view+json": {
       "model_id": "9a40f0b0559b4bee960974b6be76bb85",
       "version_major": 2,
       "version_minor": 0
      },
      "text/plain": [
       "HBox(children=(IntProgress(value=0, description='Epoch', max=1, style=ProgressStyle(description_width='initial…"
      ]
     },
     "metadata": {},
     "output_type": "display_data"
    },
    {
     "name": "stdout",
     "output_type": "stream",
     "text": [
      "epoch      trn_loss   val_loss   accuracy                                                                              \n",
      "    0      4.499588   4.065712   0.226007  \n",
      "\n"
     ]
    },
    {
     "data": {
      "application/vnd.jupyter.widget-view+json": {
       "model_id": "736746a12a0044dcba22205861b65bd8",
       "version_major": 2,
       "version_minor": 0
      },
      "text/plain": [
       "HBox(children=(IntProgress(value=0, description='Epoch', max=30, style=ProgressStyle(description_width='initia…"
      ]
     },
     "metadata": {},
     "output_type": "display_data"
    },
    {
     "name": "stdout",
     "output_type": "stream",
     "text": [
      "epoch      trn_loss   val_loss   accuracy                                                                              \n",
      "    0      4.953895   4.328289   0.208538  \n",
      "    1      4.509111   3.966621   0.252857                                                                              \n",
      "    2      4.158018   3.797353   0.26327                                                                               \n",
      "    3      3.811106   3.732713   0.274749                                                                              \n",
      "    4      3.476499   3.777167   0.282919                                                                              \n",
      "    5      3.186155   3.838869   0.275505                                                                              \n",
      "    6      2.885937   3.975965   0.268468                                                                              \n",
      "    7      2.569664   4.121979   0.274019                                                                              \n",
      "    8      2.322292   4.241015   0.269626                                                                              \n",
      "    9      2.098219   4.356922   0.269217                                                                              \n",
      "    10     1.855601   4.549054   0.260407                                                                              \n",
      "    11     1.65517    4.680008   0.25698                                                                               \n",
      "    12     1.513046   4.732436   0.258253                                                                              \n",
      "    13     1.367882   4.907236   0.251993                                                                              \n",
      "    14     1.31204    4.904441   0.249762                                                                              \n",
      "    15     1.179178   5.087891   0.251142                                                                              \n",
      "    16     1.054797   5.131036   0.24914                                                                               \n",
      "    17     0.961936   5.27019    0.247891                                                                              \n",
      "    18     0.926954   5.290052   0.251631                                                                              \n",
      "    19     0.960595   5.239617   0.246403                                                                              \n",
      "    20     0.857214   5.347713   0.25098                                                                               \n",
      "    21     0.765096   5.44098    0.249521                                                                              \n",
      "    22     0.706216   5.471474   0.24757                                                                               \n",
      "    23     0.729907   5.460482   0.250645                                                                              \n",
      "    24     0.657019   5.528466   0.249582                                                                              \n",
      "    25     0.608933   5.524086   0.251434                                                                              \n",
      "    26     0.611729   5.538776   0.251862                                                                              \n",
      "    27     0.584105   5.552394   0.254875                                                                              \n",
      "    28     0.587419   5.594591   0.252733                                                                              \n",
      "    29     0.557516   5.558405   0.25346                                                                               \n",
      "\n"
     ]
    }
   ],
   "source": [
    "num_epochs = 30\n",
    "learner.unfreeze()\n",
    "learner.lr_find(start_lr=lrs/10, end_lr=lrs*10, linear=True)\n",
    "learner.fit(lrs, 1, wds=wd, use_clr=(20,10), cycle_len=num_epochs)\n",
    "lm_name = NAME + ID + '_lm_' + str(num_epochs) + 'epochs'\n",
    "learner.save(lm_name)"
   ]
  },
  {
   "cell_type": "code",
   "execution_count": 24,
   "metadata": {},
   "outputs": [
    {
     "data": {
      "image/png": "[encoded data removed]",
      "text/plain": [
       "<Figure size 432x288 with 1 Axes>"
      ]
     },
     "metadata": {
      "needs_background": "light"
     },
     "output_type": "display_data"
    }
   ],
   "source": [
    "learner.sched.plot_loss()"
   ]
  },
  {
   "cell_type": "code",
   "execution_count": 25,
   "metadata": {},
   "outputs": [
    {
     "data": {
      "text/plain": [
       "'pop_quotesnotebook_lm_30epochs'"
      ]
     },
     "execution_count": 25,
     "metadata": {},
     "output_type": "execute_result"
    }
   ],
   "source": [
    "lm_name"
   ]
  },
  {
   "cell_type": "code",
   "execution_count": 26,
   "metadata": {},
   "outputs": [
    {
     "data": {
      "image/png": "[encoded data removed]",
      "text/plain": [
       "<Figure size 432x288 with 1 Axes>"
      ]
     },
     "metadata": {
      "needs_background": "light"
     },
     "output_type": "display_data"
    }
   ],
   "source": [
    "learner.sched.plot_loss()"
   ]
  },
  {
   "cell_type": "code",
   "execution_count": 26,
   "metadata": {},
   "outputs": [
    {
     "data": {
      "application/vnd.jupyter.widget-view+json": {
       "model_id": "478f7cf6f8b2435b856443ef45df4c05",
       "version_major": 2,
       "version_minor": 0
      },
      "text/plain": [
       "HBox(children=(IntProgress(value=0, description='Epoch', max=2, style=ProgressStyle(description_width='initial…"
      ]
     },
     "metadata": {},
     "output_type": "display_data"
    },
    {
     "name": "stdout",
     "output_type": "stream",
     "text": [
      "epoch      trn_loss   val_loss   accuracy                                                                              \n",
      "    0      0.464993   5.816205   0.242726  \n",
      "    1      0.442881   5.839136   0.245298                                                                              \n"
     ]
    }
   ],
   "source": [
    "num_epochs3 = 2\n",
    "learner.fit(lrs, 1, wds=wd, use_clr=(20,10), cycle_len=num_epochs3)\n",
    "lm_name = NAME + ID + '_lm_' + str(num_epochs + num_epochs3 + num_epochs3) + 'epochs'"
   ]
  },
  {
   "cell_type": "code",
   "execution_count": 27,
   "metadata": {},
   "outputs": [
    {
     "data": {
      "image/png": "[encoded data removed]",
      "text/plain": [
       "<Figure size 432x288 with 1 Axes>"
      ]
     },
     "metadata": {
      "needs_background": "light"
     },
     "output_type": "display_data"
    }
   ],
   "source": [
    "learner.sched.plot_loss()"
   ]
  },
  {
   "cell_type": "code",
   "execution_count": 18,
   "metadata": {},
   "outputs": [
    {
     "data": {
      "image/png": "[encoded data removed]",
      "text/plain": [
       "<Figure size 432x288 with 1 Axes>"
      ]
     },
     "metadata": {
      "needs_background": "light"
     },
     "output_type": "display_data"
    }
   ],
   "source": []
  },
  {
   "cell_type": "code",
   "execution_count": 19,
   "metadata": {},
   "outputs": [],
   "source": [
    "learner.save('alice1_lm_6epochs')\n"
   ]
  },
  {
   "cell_type": "code",
   "execution_count": null,
   "metadata": {},
   "outputs": [],
   "source": []
  }
 ],
 "metadata": {
  "kernelspec": {
   "display_name": "Python 3",
   "language": "python",
   "name": "python3"
  },
  "language_info": {
   "codemirror_mode": {
    "name": "ipython",
    "version": 3
   },
   "file_extension": ".py",
   "mimetype": "text/x-python",
   "name": "python",
   "nbconvert_exporter": "python",
   "pygments_lexer": "ipython3",
   "version": "3.7.3"
  }
 },
 "nbformat": 4,
 "nbformat_minor": 2
}
